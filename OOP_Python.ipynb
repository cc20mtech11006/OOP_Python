{
 "cells": [
  {
   "cell_type": "markdown",
   "id": "ee50ccdb",
   "metadata": {},
   "source": [
    "### Creating Classes and Objects"
   ]
  },
  {
   "cell_type": "code",
   "execution_count": 5,
   "id": "05b7d8db",
   "metadata": {},
   "outputs": [
    {
     "name": "stdout",
     "output_type": "stream",
     "text": [
      "4000000\n",
      "480000\n",
      "Sravani.Chilukuri@company.com\n",
      "Bhavani.Chilukuri@company.com\n",
      "Sravani Chilukuri\n",
      "Bhavani Chilukuri\n"
     ]
    },
    {
     "data": {
      "text/plain": [
       "'Bhavani Chilukuri'"
      ]
     },
     "execution_count": 5,
     "metadata": {},
     "output_type": "execute_result"
    }
   ],
   "source": [
    "class Employee:\n",
    "    def __init__(self, first, last, pay):\n",
    "        self.first = first\n",
    "        self.last = last\n",
    "        self.pay = pay\n",
    "        self.email = first + '.' + last + '@company.com'\n",
    "    def fullname(self):\n",
    "        return self.first + ' ' + self.last\n",
    "\n",
    "emp1 = Employee('Sravani','Chilukuri',4000000)\n",
    "emp2 = Employee('Bhavani','Chilukuri',40000*12)\n",
    "\n",
    "print(emp1.pay)\n",
    "print(emp2.pay)\n",
    "\n",
    "print(emp1.email)\n",
    "print(emp2.email)\n",
    "\n",
    "print(emp1.fullname())  # takes object name as default argument in place of self.\n",
    "print(emp2.fullname())\n",
    "\n",
    "# Using classname to print things\n",
    "print(Employee.fullname(emp1))  # Have to explicitly give object name as an argument in method if we invoke using class.\n",
    "print(Employee.fullname(emp2))"
   ]
  },
  {
   "cell_type": "markdown",
   "id": "6822720c",
   "metadata": {},
   "source": [
    "### Class Variables"
   ]
  },
  {
   "cell_type": "code",
   "execution_count": 21,
   "id": "3c0dd398",
   "metadata": {},
   "outputs": [
    {
     "name": "stdout",
     "output_type": "stream",
     "text": [
      "Previous number of employees =  0\n",
      "Current number of employees =  2\n",
      "emp1 pay =  4000000\n",
      "Previous raise of emp1 =  4160000.0\n",
      "emp1 dictionary =  {'first': 'Sravani', 'last': 'Chilukuri', 'pay': 4160000.0, 'email': 'Sravani.Chilukuri@company.com', 'raise_amount': 1.07}\n",
      "Current raise of emp1 =  4451200.0\n",
      "1.04\n",
      "1.07\n",
      "1.04\n",
      "Current number of employees =  3\n"
     ]
    }
   ],
   "source": [
    "class Employee:\n",
    "    raise_amount = 1.04        # class variable\n",
    "    number_of_employees = 0    # class variable\n",
    "    \n",
    "    def __init__(self, first, last, pay):\n",
    "        self.first = first\n",
    "        self.last = last\n",
    "        self.pay = pay\n",
    "        self.email = first + '.' + last + '@company.com'\n",
    "        Employee.number_of_employees += 1\n",
    "\n",
    "    def fullname(self):\n",
    "        return self.first + ' ' + self.last\n",
    "    \n",
    "    def apply_raise(self):\n",
    "        self.pay = float(self.pay * self.raise_amount)\n",
    "        return self.pay\n",
    "\n",
    "print('Previous number of employees = ', Employee.number_of_employees)\n",
    "\n",
    "# Creating two employee objects\n",
    "emp1 = Employee('Sravani','Chilukuri',4000000)\n",
    "emp2 = Employee('Bhavani','Chilukuri',40000*12)\n",
    "print('Current number of employees = ', Employee.number_of_employees)\n",
    "\n",
    "print('emp1 pay = ', emp1.pay)\n",
    "print('Previous raise of emp1 = ', emp1.apply_raise())\n",
    "emp1.raise_amount = 1.07\n",
    "print('emp1 dictionary = ', emp1.__dict__)\n",
    "print('Current raise of emp1 = ', emp1.apply_raise())\n",
    "\n",
    "print(Employee.raise_amount)\n",
    "print(emp1.raise_amount)\n",
    "print(emp2.raise_amount)\n",
    "\n",
    "emp3 = Employee('xyz','Chilukuri',30000*12)\n",
    "print('Current number of employees = ', Employee.number_of_employees)"
   ]
  },
  {
   "cell_type": "markdown",
   "id": "6a72d5a9",
   "metadata": {},
   "source": [
    "### Class Methods and Static Methods"
   ]
  },
  {
   "cell_type": "code",
   "execution_count": 1,
   "id": "d2ee0c6b",
   "metadata": {},
   "outputs": [
    {
     "name": "stdout",
     "output_type": "stream",
     "text": [
      "1.05\n",
      "1.05\n",
      "1.05\n",
      "John.Doe@company.com\n",
      "70000\n",
      "5\n",
      "False\n"
     ]
    }
   ],
   "source": [
    "class Employee:\n",
    "    raise_amt = 1.04\n",
    "    no_of_employees = 0\n",
    "    \n",
    "    def __init__(self, first, last, pay):\n",
    "        self.first = first\n",
    "        self.last = last\n",
    "        self.email = self.first + '.' + self.last + '@company.com'\n",
    "        self.pay = pay\n",
    "        Employee.no_of_employees +=1\n",
    "        \n",
    "    def fullname(self):\n",
    "        return self.first+ ' '+self.last\n",
    "    \n",
    "    def raise_pay(self):\n",
    "        self.pay = self.pay * self.raise_amt\n",
    "        \n",
    "    @classmethod     # decorator\n",
    "    def set_raise_amt(cls, amount):\n",
    "        cls.raise_amt = amount\n",
    "    \n",
    "    @classmethod\n",
    "    def from_string(cls, emp_string):\n",
    "        first, last, pay = emp_string.split('-')\n",
    "        return cls(first, last, pay)\n",
    "    \n",
    "    @staticmethod     #decorator\n",
    "    def is_workday(day):\n",
    "        if day.weekday() == 5 or day.weekday() == 6:     # mon = 0, tue 1, wed 2, thu 3, fri 4, sat 5, sun 6\n",
    "            return False\n",
    "        return True\n",
    "        \n",
    "emp_1 = Employee('Corey', 'Schafer', 50000)\n",
    "emp_2 = Employee('Test', 'Employee', 60000)\n",
    "\n",
    "Employee.set_raise_amt(1.05)\n",
    "\n",
    "print(Employee.raise_amt)\n",
    "print(emp_1.raise_amt)\n",
    "print(emp_2.raise_amt)\n",
    "\n",
    "emp_str_1 = 'John-Doe-70000'\n",
    "emp_str_2 = 'Steve-Smith-30000'\n",
    "emp_str_3 = 'Jane-Doe-90000'\n",
    "\n",
    "new_emp_1 = Employee.from_string(emp_str_1)\n",
    "print(new_emp_1.email)\n",
    "print(new_emp_1.pay)\n",
    "\n",
    "new_emp_2 = Employee.from_string(emp_str_2)\n",
    "new_emp_3 = Employee.from_string(emp_str_3)\n",
    "\n",
    "print(Employee.no_of_employees)\n",
    "import datetime\n",
    "my_date = datetime.date(2021, 9, 4)\n",
    "print(Employee.is_workday(my_date))    "
   ]
  },
  {
   "cell_type": "markdown",
   "id": "95d17469",
   "metadata": {},
   "source": [
    "### Inheritance"
   ]
  },
  {
   "cell_type": "code",
   "execution_count": 42,
   "id": "dfe33c0d",
   "metadata": {},
   "outputs": [
    {
     "name": "stdout",
     "output_type": "stream",
     "text": [
      "chandrika.devi@email.com\n",
      "--> Sravani Chilukuri\n",
      "--> Navya Sirigineedi\n",
      "True\n",
      "True\n",
      "False\n"
     ]
    }
   ],
   "source": [
    "class Employee:\n",
    "\n",
    "    raise_amt = 1.04\n",
    "\n",
    "    def __init__(self, first, last, pay):\n",
    "        self.first = first\n",
    "        self.last = last\n",
    "        self.email = first + '.' + last + '@email.com'\n",
    "        self.pay = pay\n",
    "\n",
    "    def fullname(self):\n",
    "        return '{} {}'.format(self.first, self.last)\n",
    "\n",
    "    def apply_raise(self):\n",
    "        self.pay = int(self.pay * self.raise_amt)\n",
    "\n",
    "\n",
    "class Developer(Employee):\n",
    "    raise_amt = 1.10\n",
    "\n",
    "    def __init__(self, first, last, pay, prog_lang):\n",
    "        super().__init__(first, last, pay)\n",
    "        self.prog_lang = prog_lang\n",
    "\n",
    "\n",
    "class Manager(Employee):\n",
    "\n",
    "    def __init__(self, first, last, pay, employees=None):\n",
    "        super().__init__(first, last, pay)\n",
    "        if employees is None:\n",
    "            self.employees = []\n",
    "        else:\n",
    "            self.employees = employees\n",
    "\n",
    "    def add_emp(self, emp):\n",
    "        if emp not in self.employees:\n",
    "            self.employees.append(emp)\n",
    "\n",
    "    def remove_emp(self, emp):\n",
    "        if emp in self.employees:\n",
    "            self.employees.remove(emp)\n",
    "\n",
    "    def print_emps(self):\n",
    "        for emp in self.employees:\n",
    "            print('-->', emp.fullname())\n",
    "\n",
    "\n",
    "dev_1 = Developer('Sravani', 'Chilukuri', 50000, 'Python')\n",
    "dev_2 = Developer('Bhavani', 'chilukuri', 60000, 'Java')\n",
    "dev_3 = Developer('Navya', 'Sirigineedi', 70000, 'C')\n",
    "\n",
    "mgr_1 = Manager('chandrika', 'devi', 90000, [dev_1])\n",
    "print(mgr_1.email)\n",
    "\n",
    "mgr_1.add_emp(dev_2)\n",
    "mgr_1.add_emp(dev_3)\n",
    "mgr_1.remove_emp(dev_2)\n",
    "\n",
    "mgr_1.print_emps()\n",
    "\n",
    "print(issubclass(Manager, Employee))\n",
    "print(issubclass(Developer, Employee))\n",
    "print(issubclass(Manager, Developer))"
   ]
  },
  {
   "cell_type": "markdown",
   "id": "be3abfe4",
   "metadata": {},
   "source": [
    "### Special Methods - dunder"
   ]
  },
  {
   "cell_type": "code",
   "execution_count": 45,
   "id": "60e60416",
   "metadata": {},
   "outputs": [
    {
     "name": "stdout",
     "output_type": "stream",
     "text": [
      "110000\n",
      "Corey Schafer - Corey.Schafer@email.com\n",
      "13\n"
     ]
    }
   ],
   "source": [
    "class Employee:\n",
    "\n",
    "    raise_amt = 1.04\n",
    "\n",
    "    def __init__(self, first, last, pay):\n",
    "        self.first = first\n",
    "        self.last = last\n",
    "        self.email = first + '.' + last + '@email.com'\n",
    "        self.pay = pay\n",
    "\n",
    "    def fullname(self):\n",
    "        return '{} {}'.format(self.first, self.last)\n",
    "\n",
    "    def apply_raise(self):\n",
    "        self.pay = int(self.pay * self.raise_amt)\n",
    "\n",
    "    def __repr__(self):\n",
    "        return \"Employee('{}', '{}', {})\".format(self.first, self.last, self.pay)\n",
    "\n",
    "    def __str__(self):\n",
    "        return '{} - {}'.format(self.fullname(), self.email)\n",
    "\n",
    "    def __add__(self, other):\n",
    "        return self.pay + other.pay\n",
    "\n",
    "    def __len__(self):\n",
    "        return len(self.fullname())\n",
    "\n",
    "\n",
    "emp_1 = Employee('Corey', 'Schafer', 50000)\n",
    "emp_2 = Employee('Test', 'Employee', 60000)\n",
    "\n",
    "print(emp_1 + emp_2)  # invoke __add__ special method\n",
    "print(emp_1)          # invoke __str__ special method. If __str__ is not available, __repr__ is invoked\n",
    "print(len(emp_1))     # invoke __len__ method"
   ]
  },
  {
   "cell_type": "markdown",
   "id": "66c35719",
   "metadata": {},
   "source": [
    "### Decorators"
   ]
  },
  {
   "cell_type": "code",
   "execution_count": 3,
   "id": "ebd00f57",
   "metadata": {},
   "outputs": [
    {
     "name": "stdout",
     "output_type": "stream",
     "text": [
      "John.Smith@email.com\n",
      "Corey\n",
      "Corey.Schafer@email.com\n",
      "Corey Schafer\n",
      "Delete Name!\n"
     ]
    }
   ],
   "source": [
    "class Employee:\n",
    "\n",
    "    def __init__(self, first, last):\n",
    "        self.first = first\n",
    "        self.last = last\n",
    "\n",
    "    @property\n",
    "    def email(self):\n",
    "        return '{}.{}@email.com'.format(self.first, self.last)\n",
    "\n",
    "    @property\n",
    "    def fullname(self):\n",
    "        return '{} {}'.format(self.first, self.last)\n",
    "    \n",
    "    @fullname.setter\n",
    "    def fullname(self, name):\n",
    "        first, last = name.split(' ')\n",
    "        self.first = first\n",
    "        self.last = last\n",
    "    \n",
    "    @fullname.deleter\n",
    "    def fullname(self):\n",
    "        print('Delete Name!')\n",
    "        self.first = None\n",
    "        self.last = None\n",
    "\n",
    "\n",
    "emp_1 = Employee('John', 'Smith')\n",
    "print(emp_1.email)  # we used property here, so no need for () at the end.\n",
    "\n",
    "emp_1.fullname = \"Corey Schafer\"   # we used property here, so no need for () at the end.\n",
    "# By using setter we are updating first and last name using given full name above\n",
    "print(emp_1.first)\n",
    "print(emp_1.email)\n",
    "print(emp_1.fullname)\n",
    "\n",
    "del emp_1.fullname"
   ]
  }
 ],
 "metadata": {
  "kernelspec": {
   "display_name": "Python 3",
   "language": "python",
   "name": "python3"
  },
  "language_info": {
   "codemirror_mode": {
    "name": "ipython",
    "version": 3
   },
   "file_extension": ".py",
   "mimetype": "text/x-python",
   "name": "python",
   "nbconvert_exporter": "python",
   "pygments_lexer": "ipython3",
   "version": "3.8.8"
  }
 },
 "nbformat": 4,
 "nbformat_minor": 5
}
